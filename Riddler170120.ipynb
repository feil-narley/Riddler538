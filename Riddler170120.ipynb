{
 "cells": [
  {
   "cell_type": "code",
   "execution_count": null,
   "metadata": {},
   "outputs": [],
   "source": []
  },
  {
   "cell_type": "code",
   "execution_count": null,
   "metadata": {},
   "outputs": [],
   "source": []
  },
  {
   "cell_type": "code",
   "execution_count": null,
   "metadata": {},
   "outputs": [],
   "source": []
  },
  {
   "cell_type": "code",
   "execution_count": null,
   "metadata": {},
   "outputs": [],
   "source": []
  },
  {
   "cell_type": "code",
   "execution_count": 110,
   "metadata": {},
   "outputs": [
    {
     "name": "stdout",
     "output_type": "stream",
     "text": [
      "The highest expected points is 0.96000000000000000666\n",
      "The percent of the time one should go for two is 20.0% of the time\n",
      "The defense should defend the two 100.0% of the time\n"
     ]
    }
   ],
   "source": [
    "import numpy as np\n",
    "\n",
    "#based on percent go for 2\n",
    "o_strat = None\n",
    "#based on percent trying to stop 2\n",
    "d_strat = None\n",
    "\n",
    "\n",
    "highest_2 = 0\n",
    "#i percetn of time offense goes for 2\n",
    "for i in np.arange(0,1.01,.01):\n",
    "    checky = 2\n",
    "    #j is the percent of time the defense defends the 2\n",
    "    for j in np.arange(0,1.01,.01):\n",
    "        from_ones = Decimal(j)*(1-Decimal(i)) + (1-Decimal(j))*(1-Decimal(i))*Decimal(.9)\n",
    "        from_twos = Decimal(j)*Decimal(i)*Decimal(.8) + (1-Decimal(j))*Decimal(i)*Decimal(1.2)\n",
    "        if from_twos + from_ones < checky:\n",
    "            checky = from_twos + from_ones\n",
    "            ef_df = j\n",
    "    expected_points = checky\n",
    "    if expected_points > highest_2:\n",
    "        most_ef_2 = i\n",
    "        double = i\n",
    "        highest_2 = expected_points\n",
    "        opponent_2 = ef_df\n",
    "\n",
    "print(\"The highest expected points is\", highest_2)\n",
    "print(\"The percent of the time one should go for two is \" + str(most_ef_2*100) + (\"% of the time\") )\n",
    "print(\"The defense should defend the two \" +str(opponent_2*100) +(\"% of the time\"))"
   ]
  },
  {
   "cell_type": "code",
   "execution_count": 112,
   "metadata": {},
   "outputs": [
    {
     "name": "stdout",
     "output_type": "stream",
     "text": [
      "0.957024000000000010201291\n",
      "0.962000000000000007993606\n",
      "0.957000000000000010214052\n"
     ]
    }
   ],
   "source": [
    "from decimal import *\n",
    "getcontext().prec = 24\n",
    "\n",
    "\n",
    "i = .19\n",
    "j = .0048\n",
    "from_ones = Decimal(j)*(1-Decimal(i)) + (1-Decimal(j))*(1-Decimal(i))*Decimal(.9)\n",
    "from_twos = Decimal(j)*Decimal(i)*Decimal(.8) + (1-Decimal(j))*Decimal(i)*Decimal(1.2)\n",
    "print(from_ones+from_twos)\n",
    "j = 1\n",
    "from_ones = Decimal(j)*(1-Decimal(i)) + (1-Decimal(j))*(1-Decimal(i))*Decimal(.9)\n",
    "from_twos = Decimal(j)*Decimal(i)*Decimal(.8) + (1-Decimal(j))*Decimal(i)*Decimal(1.2)\n",
    "print(from_ones+from_twos)\n",
    "j = 0\n",
    "from_ones = Decimal(j)*(1-Decimal(i)) + (1-Decimal(j))*(1-Decimal(i))*Decimal(.9)\n",
    "from_twos = Decimal(j)*Decimal(i)*Decimal(.8) + (1-Decimal(j))*Decimal(i)*Decimal(1.2)\n",
    "print(from_ones+from_twos)"
   ]
  },
  {
   "cell_type": "code",
   "execution_count": 81,
   "metadata": {},
   "outputs": [
    {
     "name": "stdout",
     "output_type": "stream",
     "text": [
      "0.9599999999999999\n"
     ]
    }
   ],
   "source": []
  },
  {
   "cell_type": "code",
   "execution_count": 100,
   "metadata": {},
   "outputs": [
    {
     "name": "stdout",
     "output_type": "stream",
     "text": [
      "0.989999999999999999791832\n"
     ]
    }
   ],
   "source": []
  },
  {
   "cell_type": "code",
   "execution_count": 88,
   "metadata": {},
   "outputs": [
    {
     "data": {
      "text/plain": [
       "Context(prec=24, rounding=ROUND_HALF_EVEN, Emin=-999999, Emax=999999, capitals=1, clamp=0, flags=[Inexact, FloatOperation, Rounded], traps=[InvalidOperation, DivisionByZero, Overflow])"
      ]
     },
     "execution_count": 88,
     "metadata": {},
     "output_type": "execute_result"
    }
   ],
   "source": []
  },
  {
   "cell_type": "code",
   "execution_count": 146,
   "metadata": {},
   "outputs": [
    {
     "name": "stdout",
     "output_type": "stream",
     "text": [
      "3.7602592\n"
     ]
    }
   ],
   "source": [
    "from random import uniform\n",
    "results = []\n",
    "for i in range(5000000):\n",
    "    rocks = [[0,0,0],[0,2,0],[0,0,0]]\n",
    "    frogs = [[1,1],[1,1]]\n",
    "    \n",
    "    on_diff = True\n",
    "    step = 0\n",
    "    while on_diff and step < 10:\n",
    "        step = step + 1\n",
    "        for position in range(len(frogs)):\n",
    "            i = frogs[position][0]\n",
    "            j = frogs[position][1]\n",
    "            rocks[i][j] = rocks[i][j] - 1\n",
    "            possible_moves = 4\n",
    "            #what moves are available?\n",
    "            #can i go up?\n",
    "            if i == 0:\n",
    "                #can i go left?\n",
    "                if j == 0:\n",
    "                    #can go down and right\n",
    "                    #verticle movements will have lower numbers in the distribution\n",
    "                    #order is down, up, left, right\n",
    "                    way = uniform(0, 1)\n",
    "                    if way < .5:\n",
    "                        i = i+1\n",
    "                        frogs[position] = [i,j]\n",
    "                    else:\n",
    "                        j = j+1\n",
    "                        frogs[position] = [i,j]\n",
    "\n",
    "                #can i go right?\n",
    "                elif j == 2:\n",
    "                    #can go down and left\n",
    "                    way = uniform(0, 1)\n",
    "                    if way < .5:\n",
    "                        i = i+1\n",
    "                        frogs[position] = [i,j]\n",
    "                    else:\n",
    "                        j = j-1\n",
    "                        frogs[position] = [i,j]               \n",
    "                #can i do both?\n",
    "                else:\n",
    "                    #can go down and either left or right\n",
    "                    way = uniform(0, 1)\n",
    "                    if way < 1/3:\n",
    "                        i = i+1\n",
    "                        frogs[position] = [i,j]\n",
    "                    elif way < 2/3:\n",
    "                        j = j-1\n",
    "                        frogs[position] = [i,j]\n",
    "                    else:\n",
    "                        j = j+1\n",
    "                        frogs[position] = [i,j]\n",
    "            #can i go down?\n",
    "            elif i == 2:\n",
    "                #can i go left?\n",
    "                if j == 0:\n",
    "                    #can go up and right\n",
    "                    way = uniform(0, 1)\n",
    "                    if way < .5:\n",
    "                        i = i-1\n",
    "                        frogs[position] = [i,j]\n",
    "                    else:\n",
    "                        j = j+1\n",
    "                        frogs[position] = [i,j]\n",
    "\n",
    "                #can i go right?\n",
    "                elif j == 2:\n",
    "                    #can go up and left\n",
    "                    way = uniform(0, 1)\n",
    "                    if way < .5:\n",
    "                        i = i-1\n",
    "                        frogs[position] = [i,j]\n",
    "                    else:\n",
    "                        j = j-1\n",
    "                        frogs[position] = [i,j]               \n",
    "                #can i do both?\n",
    "                else:\n",
    "                    #can go up and either left or right\n",
    "\n",
    "                    way = uniform(0, 1)\n",
    "                    if way < 1/3:\n",
    "                        i = i-1\n",
    "                        frogs[position] = [i,j]\n",
    "                    elif way < 2/3:\n",
    "                        j = j-1\n",
    "                        frogs[position] = [i,j]\n",
    "                    else:\n",
    "                        j = j+1\n",
    "                        frogs[position] = [i,j]\n",
    "            #can i do both?\n",
    "            else:\n",
    "                #can i go left?\n",
    "                if j == 0:\n",
    "                    #can go up or down and right\n",
    "                    #verticle movements will have lower numbers in the distribution\n",
    "                    #order is down, up, left, right\n",
    "                    way = uniform(0, 1)\n",
    "                    if way < 1/3:\n",
    "                        i = i-1\n",
    "                        frogs[position] = [i,j]\n",
    "                    elif way < 2/3:\n",
    "                        i = i+1\n",
    "                        frogs[position] = [i,j]\n",
    "                    else:\n",
    "                        j = j+1\n",
    "                        frogs[position] = [i,j]\n",
    "\n",
    "                #can i go right?\n",
    "                elif j == 2:\n",
    "                    #can go up/down/left\n",
    "                    way = uniform(0, 1)\n",
    "                    if way < 1/3:\n",
    "                        i = i-1\n",
    "                        frogs[position] = [i,j]\n",
    "                    elif way < 2/3:\n",
    "                        i = i+1\n",
    "                        frogs[position] = [i,j]\n",
    "                    else:\n",
    "                        j = j-1\n",
    "                        frogs[position] = [i,j]              \n",
    "                #can i do both?\n",
    "                else:\n",
    "                    #can go down and right\n",
    "                    #verticle movements will have lower numbers in the distribution\n",
    "                    way = uniform(0, 1)\n",
    "                    if way < 1/4:\n",
    "                        i = i+1\n",
    "                        frogs[position] = [i,j]\n",
    "                    elif way < 2/4:\n",
    "                        i = i-1\n",
    "                        frogs[position] = [i,j]\n",
    "                    elif way < 3/4:\n",
    "                        i = i-1\n",
    "                        frogs[position] = [i,j]\n",
    "                    else:\n",
    "                        j = j+1\n",
    "                        frogs[position] = [i,j]\n",
    "\n",
    "            rocks[i][j] = rocks[i][j]+1\n",
    "\n",
    "        if rocks[frogs[0][0]][frogs[0][1]] == len(frogs):\n",
    "            on_diff = False\n",
    "\n",
    "\n",
    "    results.append(step)\n",
    "   \n",
    "print(sum(results)/len(results))  "
   ]
  },
  {
   "cell_type": "code",
   "execution_count": 144,
   "metadata": {},
   "outputs": [
    {
     "name": "stdout",
     "output_type": "stream",
     "text": [
      "[[1, 1, 1, 1, 1, 1]]\n"
     ]
    }
   ],
   "source": [
    "check = [[1,1]*3]\n",
    "print(check)"
   ]
  },
  {
   "cell_type": "code",
   "execution_count": null,
   "metadata": {},
   "outputs": [],
   "source": []
  }
 ],
 "metadata": {
  "kernelspec": {
   "display_name": "Python 3",
   "language": "python",
   "name": "python3"
  },
  "language_info": {
   "codemirror_mode": {
    "name": "ipython",
    "version": 3
   },
   "file_extension": ".py",
   "mimetype": "text/x-python",
   "name": "python",
   "nbconvert_exporter": "python",
   "pygments_lexer": "ipython3",
   "version": "3.7.3"
  }
 },
 "nbformat": 4,
 "nbformat_minor": 2
}
