{
 "cells": [
  {
   "cell_type": "code",
   "execution_count": 11,
   "metadata": {},
   "outputs": [],
   "source": [
    "\n",
    "\n",
    "def convert_to_c(fer):\n",
    "    ret = fer - 32\n",
    "    ret = ret *5/9\n",
    "    return round(ret)\n",
    "\n",
    "answers = []\n",
    "for fer in range (-459, 1000):\n",
    "    cel = convert_to_c(fer)\n",
    "    cel = str(cel)\n",
    "    fer = str(fer)\n",
    "    if len(cel) == len(fer):\n",
    "        for i in range(len(cel)):\n",
    "            if cel[i] == fer[len(cel)-1-i]:\n",
    "                if i == (len(cel)-1):\n",
    "                    answers.append([fer,cel])\n",
    "            else:\n",
    "                break\n",
    "\n",
    "answers"
   ]
  },
  {
   "cell_type": "code",
   "execution_count": 32,
   "metadata": {},
   "outputs": [],
   "source": [
    "#coin flipping optimizing\n",
    "from random import random\n",
    "\n",
    "def coinA(trials):\n",
    "    ret = 0\n",
    "    for i in range(trials):\n",
    "        result = round(random())\n",
    "        if result > .5:\n",
    "            ret += 1\n",
    "        else:\n",
    "            ret += -1\n",
    "    return ret\n",
    "\n",
    "def coinB(trials):\n",
    "    ret = 0\n",
    "    for i in range(trials):\n",
    "        result = round(random())\n",
    "        if result > .5:\n",
    "            ret += 2\n",
    "        else:\n",
    "            ret += -2\n",
    "    return ret\n",
    "    \n",
    "optimal = []\n",
    "for i in range(0,101):\n",
    "    successes = 0\n",
    "    for j in range(1000000):\n",
    "        iter_score = 0\n",
    "        iter_score += coinA(i)\n",
    "        iter_score += coinB(100-i)\n",
    "        if iter_score > 0:\n",
    "            successes += 1\n",
    "    optimal.append([i,successes])"
   ]
  },
  {
   "cell_type": "code",
   "execution_count": 33,
   "metadata": {},
   "outputs": [
    {
     "name": "stdout",
     "output_type": "stream",
     "text": [
      "501335\n",
      "11\n"
     ]
    },
    {
     "data": {
      "text/plain": [
       "[[0, 460067],\n",
       " [1, 500661],\n",
       " [2, 480427],\n",
       " [3, 500741],\n",
       " [4, 479305],\n",
       " [5, 499859],\n",
       " [6, 479423],\n",
       " [7, 500568],\n",
       " [8, 479718],\n",
       " [9, 499471],\n",
       " [10, 479633],\n",
       " [11, 501335],\n",
       " [12, 479012],\n",
       " [13, 500743],\n",
       " [14, 478788],\n",
       " [15, 500044],\n",
       " [16, 479325],\n",
       " [17, 499896],\n",
       " [18, 478963],\n",
       " [19, 499943],\n",
       " [20, 477863],\n",
       " [21, 500148],\n",
       " [22, 478165],\n",
       " [23, 499914],\n",
       " [24, 477602],\n",
       " [25, 501057],\n",
       " [26, 478684],\n",
       " [27, 500484],\n",
       " [28, 476870],\n",
       " [29, 500241],\n",
       " [30, 477013],\n",
       " [31, 500535],\n",
       " [32, 477851],\n",
       " [33, 500097],\n",
       " [34, 476776],\n",
       " [35, 500071],\n",
       " [36, 475836],\n",
       " [37, 500031],\n",
       " [38, 476243],\n",
       " [39, 499714],\n",
       " [40, 476152],\n",
       " [41, 499695],\n",
       " [42, 475397],\n",
       " [43, 501027],\n",
       " [44, 475010],\n",
       " [45, 499597],\n",
       " [46, 476023],\n",
       " [47, 500045],\n",
       " [48, 474825],\n",
       " [49, 500039],\n",
       " [50, 474230],\n",
       " [51, 500902],\n",
       " [52, 475057],\n",
       " [53, 499754],\n",
       " [54, 473732],\n",
       " [55, 499329],\n",
       " [56, 474273],\n",
       " [57, 500149],\n",
       " [58, 472953],\n",
       " [59, 500012],\n",
       " [60, 473635],\n",
       " [61, 499902],\n",
       " [62, 472620],\n",
       " [63, 499373],\n",
       " [64, 472661],\n",
       " [65, 499472],\n",
       " [66, 471922],\n",
       " [67, 500229],\n",
       " [68, 472168],\n",
       " [69, 499811],\n",
       " [70, 471426],\n",
       " [71, 500839],\n",
       " [72, 470519],\n",
       " [73, 499995],\n",
       " [74, 470436],\n",
       " [75, 501300],\n",
       " [76, 470931],\n",
       " [77, 499551],\n",
       " [78, 469267],\n",
       " [79, 499836],\n",
       " [80, 469322],\n",
       " [81, 500230],\n",
       " [82, 467367],\n",
       " [83, 500059],\n",
       " [84, 467661],\n",
       " [85, 500110],\n",
       " [86, 466845],\n",
       " [87, 500664],\n",
       " [88, 465636],\n",
       " [89, 500085],\n",
       " [90, 465707],\n",
       " [91, 500356],\n",
       " [92, 464646],\n",
       " [93, 499840],\n",
       " [94, 463874],\n",
       " [95, 499769],\n",
       " [96, 461908],\n",
       " [97, 500555],\n",
       " [98, 461516],\n",
       " [99, 501108],\n",
       " [100, 459257]]"
      ]
     },
     "execution_count": 33,
     "metadata": {},
     "output_type": "execute_result"
    }
   ],
   "source": [
    "maximum = 0\n",
    "optimal_strat = 0\n",
    "for i in range(len(optimal)):\n",
    "    if optimal[i][1] > maximum:\n",
    "        maximum = optimal[i][1]\n",
    "        optimal_strat = optimal[i][0]\n",
    "print(maximum)\n",
    "print(optimal_strat)\n",
    "optimal"
   ]
  },
  {
   "cell_type": "code",
   "execution_count": 75,
   "metadata": {},
   "outputs": [
    {
     "data": {
      "text/plain": [
       "0.61317"
      ]
     },
     "execution_count": 75,
     "metadata": {},
     "output_type": "execute_result"
    }
   ],
   "source": [
    "from scipy.stats import binom\n",
    "import math\n",
    "\n",
    "successes = 0\n",
    "\n",
    "for i in range(500000):\n",
    "    score = 0\n",
    "    for j in range(100):\n",
    "        coinALoses = math.ceil(((100-j)-math.ceil((1-score)/1))/2)\n",
    "        coinBLoses = math.ceil(((100-j)-math.ceil((1-score)/2))/2)\n",
    "        if (coinALoses > coinBLoses):\n",
    "            score += coinA(1)\n",
    "        else:\n",
    "            score += coinB(1)\n",
    "    if score > 0:\n",
    "        successes += 1\n",
    "        \n",
    "successes/500000"
   ]
  },
  {
   "cell_type": "code",
   "execution_count": 57,
   "metadata": {},
   "outputs": [
    {
     "data": {
      "text/plain": [
       "2918"
      ]
     },
     "execution_count": 57,
     "metadata": {},
     "output_type": "execute_result"
    }
   ],
   "source": [
    "from scipy.stats import binom\n",
    "import math\n",
    "\n",
    "successes = 0\n",
    "\n",
    "for i in range(5000):\n",
    "    score = 0\n",
    "    for j in range(100):\n",
    "        coinAInput = math.ceil(((100-j)-math.ceil((1-score)/1))/2)\n",
    "        coinBInput = math.ceil(((100-j)-math.ceil((1-score)/2))/2)\n",
    "        if ((binom.cdf(coinAInput,100-j,.5)) < (binom.cdf(coinBInput,100-j,.5))):\n",
    "            score += coinB(1)\n",
    "        else:\n",
    "            score += coinA(1)\n",
    "    if score > 0:\n",
    "        successes += 1\n",
    "        \n",
    "successes"
   ]
  },
  {
   "cell_type": "code",
   "execution_count": 71,
   "metadata": {},
   "outputs": [
    {
     "data": {
      "text/plain": [
       "0.5848"
      ]
     },
     "execution_count": 71,
     "metadata": {},
     "output_type": "execute_result"
    }
   ],
   "source": [
    "from scipy.stats import binom\n",
    "import math\n",
    "\n",
    "successes = 0\n",
    "\n",
    "for i in range(5000):\n",
    "    score = 0\n",
    "    for j in range(100):\n",
    "        coinALoses = math.ceil(((100-j)-math.ceil((1-score)/1))/2)\n",
    "        coinBLoses = math.ceil(((100-j)-math.ceil((1-score)/2))/2)\n",
    "        if (coinALoses < coinBLoses):\n",
    "            score += coinB(1)\n",
    "        else:\n",
    "            score += coinA(1)\n",
    "    if score > 0:\n",
    "        successes += 1\n",
    "        \n",
    "successes/5000\n"
   ]
  },
  {
   "cell_type": "code",
   "execution_count": null,
   "metadata": {},
   "outputs": [],
   "source": []
  }
 ],
 "metadata": {
  "kernelspec": {
   "display_name": "Python 3",
   "language": "python",
   "name": "python3"
  },
  "language_info": {
   "codemirror_mode": {
    "name": "ipython",
    "version": 3
   },
   "file_extension": ".py",
   "mimetype": "text/x-python",
   "name": "python",
   "nbconvert_exporter": "python",
   "pygments_lexer": "ipython3",
   "version": "3.7.3"
  }
 },
 "nbformat": 4,
 "nbformat_minor": 2
}
