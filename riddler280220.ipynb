{
 "cells": [
  {
   "cell_type": "code",
   "execution_count": 33,
   "metadata": {},
   "outputs": [
    {
     "data": {
      "text/plain": [
       "11.248650272597093"
      ]
     },
     "execution_count": 33,
     "metadata": {},
     "output_type": "execute_result"
    }
   ],
   "source": [
    "#working on classic\n",
    "\n",
    "from random import random\n",
    "from math import floor\n",
    "\n",
    "\n",
    "# barbers = {'barber1': random()*15,\n",
    "#           'barber2': random()*15,\n",
    "#           'barber3': random()*15,\n",
    "#           'Tif': random()*15}\n",
    "\n",
    "# #Tif will be the fourth barber\n",
    "# barbers_ = [random()*15,\n",
    "#             random()*15,\n",
    "#             random()*15,\n",
    "#             random()*15]\n",
    "\n",
    "# haircut_time = 0\n",
    "# wants_tif = floor(random()*4)\n",
    "# if  wants_tif == 3:\n",
    "#     haircut_time = 15+barbers_[3]\n",
    "# else:\n",
    "#     haircut_time = barbers_[3]\n",
    "# print(haircut_time)\n",
    "# print(wants_tif)\n",
    "\n",
    "total = 0\n",
    "\n",
    "for i in range(10000000):\n",
    "    barbers_ = [random()*15,\n",
    "                random()*15,\n",
    "                random()*15,\n",
    "                random()*15]\n",
    "    haircut_time = 0\n",
    "    wants_tif = floor(random()*4)\n",
    "    if  wants_tif == 3:\n",
    "        haircut_time = 15+barbers_[3]\n",
    "    else:\n",
    "        haircut_time = barbers_[3]\n",
    "    total = total + haircut_time\n",
    "    \n",
    "average = total/10000000\n",
    "average"
   ]
  },
  {
   "cell_type": "code",
   "execution_count": 55,
   "metadata": {},
   "outputs": [],
   "source": [
    "#express\n",
    "from random import shuffle\n",
    "\n",
    "for i in range(1000000):\n",
    "    #1s represent face up cards and 0s face down\n",
    "    ones = [1]*13\n",
    "    zeros = [0]*39\n",
    "    deck = ones + zeros\n",
    "    shuffle(deck)\n",
    "    #take off first 13 cards and flip then the conditions should be solved\n",
    "    orig_deck = deck[13:]\n",
    "    new_deck = deck[:13]\n",
    "    for i in range(len(new_deck)):\n",
    "        if new_deck[i] == 0:\n",
    "            new_deck[i] = 1\n",
    "        else:\n",
    "            new_deck[i] = 0\n",
    "\n",
    "    if sum(new_deck) != sum(orig_deck):\n",
    "        print('does not comply')\n",
    "        break\n",
    "        "
   ]
  },
  {
   "cell_type": "code",
   "execution_count": null,
   "metadata": {},
   "outputs": [],
   "source": []
  },
  {
   "cell_type": "code",
   "execution_count": null,
   "metadata": {},
   "outputs": [],
   "source": []
  },
  {
   "cell_type": "code",
   "execution_count": null,
   "metadata": {},
   "outputs": [],
   "source": []
  },
  {
   "cell_type": "code",
   "execution_count": null,
   "metadata": {},
   "outputs": [],
   "source": []
  },
  {
   "cell_type": "code",
   "execution_count": null,
   "metadata": {},
   "outputs": [],
   "source": []
  }
 ],
 "metadata": {
  "kernelspec": {
   "display_name": "Python 3",
   "language": "python",
   "name": "python3"
  },
  "language_info": {
   "codemirror_mode": {
    "name": "ipython",
    "version": 3
   },
   "file_extension": ".py",
   "mimetype": "text/x-python",
   "name": "python",
   "nbconvert_exporter": "python",
   "pygments_lexer": "ipython3",
   "version": "3.7.3"
  }
 },
 "nbformat": 4,
 "nbformat_minor": 2
}
